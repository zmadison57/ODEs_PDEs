{
 "cells": [
  {
   "cell_type": "markdown",
   "metadata": {},
   "source": [
    "# Heat Equation \n",
    "## November 17th, 2022\n",
    "### Overview: Using finite difference methods to solve the heat quation"
   ]
  },
  {
   "cell_type": "code",
   "execution_count": 1,
   "metadata": {},
   "outputs": [],
   "source": [
    "import numpy as np\n",
    "import matplotlib.pyplot as plt\n",
    "import scipy.linalg as la\n",
    "import matplotlib.animation as animation\n",
    "from scipy.sparse import diags\n",
    "from scipy import sparse\n",
    "from scipy.sparse.linalg import spsolve\n",
    "from IPython.display import HTML"
   ]
  },
  {
   "cell_type": "code",
   "execution_count": 2,
   "metadata": {},
   "outputs": [],
   "source": [
    "%matplotlib inline"
   ]
  },
  {
   "cell_type": "code",
   "execution_count": 3,
   "metadata": {},
   "outputs": [],
   "source": [
    "def general_function(x,t,v,f):\n",
    "    \"\"\"\n",
    "    this function does the general work for finding the solutions\n",
    "    takes in linspaces x and y, a constant v (nu) and a callable function f\n",
    "    \"\"\"\n",
    "    # lambda coefficient\n",
    "    λ = v*(t[1]-t[0])/((x[1]-x[0])**2)\n",
    "    \n",
    "    #_t is number of points to make correct number of subintervals, _x is same for x subintervals\n",
    "    _t = len(t)\n",
    "    _x = len(x)\n",
    "    \n",
    "    #creating A matrix\n",
    "    below = λ*np.concatenate([np.ones(_x-2),np.array([0])])\n",
    "    main  = np.concatenate([np.array([1]),(1-2*λ)*np.ones(_x-1),np.array([1])])\n",
    "    above = np.concatenate([np.array([0]),λ*np.ones(_x-2)])\n",
    "    k = [below,main,above]\n",
    "    offset = [-1,0,1]\n",
    "    A = diags(k,offset).toarray()\n",
    "    \n",
    "    #get first time step using initial condition function\n",
    "    U = f(x)\n",
    "    \n",
    "    #for every following time step, find the next time step's solution and stack onto U\n",
    "    for i in range(_t-1):\n",
    "        if i > 0:\n",
    "            U = np.vstack([U,A@U[-1]])\n",
    "        else: U = np.vstack([U,A@U])\n",
    "    \n",
    "    return U"
   ]
  },
  {
   "cell_type": "code",
   "execution_count": 4,
   "metadata": {},
   "outputs": [],
   "source": [
    "def animate(x,u,title):\n",
    "    \"\"\"Saves an animation of the solution u on the spatial linspace x over the time linspace t; titles it with title\"\"\"\n",
    "    #initialize the figure and axis\n",
    "    plt.ioff()\n",
    "    fig = plt.figure()\n",
    "    ax  = fig.add_subplot(111)\n",
    "    \n",
    "    #set window limits\n",
    "    ax.set_xlim(min(x),max(x))\n",
    "    ax.set_ylim((min(min(r) for r in u), max(max(r) for r in u)))\n",
    "    \n",
    "    #labels and titles\n",
    "    plt.xlabel('x')\n",
    "    plt.ylabel('u')\n",
    "    plt.title(title)\n",
    "    \n",
    "    #create the trajectory plot object\n",
    "    traj, = plt.plot([],[])\n",
    "    \n",
    "    def update(t):\n",
    "        #update function updates where we are in the solution\n",
    "        traj.set_data(x,u[t])\n",
    "        return traj\n",
    "    \n",
    "    #create and save the animation\n",
    "    plt.ioff()\n",
    "    ani = animation.FuncAnimation(fig,update,frames=range(u.shape[0]),interval=25,repeat=True)\n",
    "    ani.save(f'{title}.mp4')"
   ]
  },
  {
   "cell_type": "markdown",
   "metadata": {},
   "source": [
    "# Problem 1\n",
    "\n",
    "Consider the initial/boundary value problem\n",
    "\n",
    "\\begin{align}\n",
    "\t\\begin{split}\n",
    "\t&{ } u_t = 0.05 u_{xx}, \\quad x \\in [0,1], \\quad t \\in [0,1]\\\\\n",
    "\t&{ } u(0,t) = 0,\\quad u(1,t) = 0,\\\\\n",
    "\t&{ } u(x,0) = 2\\max\\{0.2 - |x-0.5|,0\\}.\n",
    "\t\\end{split}\n",
    "\\end{align}\n",
    "\n",
    "Approximate the solution $u(x,t)$ by taking 6 subintervals in the $x$ dimension and 10 subintervals in time.\n",
    "Plot the approximation at $t=0, t=0.4$, and $t=1$."
   ]
  },
  {
   "cell_type": "code",
   "execution_count": 5,
   "metadata": {},
   "outputs": [
    {
     "data": {
      "image/png": "[encoded data removed]",
      "text/plain": [
       "<Figure size 432x288 with 1 Axes>"
      ]
     },
     "metadata": {
      "needs_background": "light"
     },
     "output_type": "display_data"
    }
   ],
   "source": [
    "#defining linspaces, function\n",
    "x = np.linspace(0,1,7)\n",
    "t = np.linspace(0,1,11)\n",
    "f = lambda x: 2*np.where(0.2-np.abs(x-0.5)>0,0.2-np.abs(x-0.5),0)\n",
    "\n",
    "#find solution for every time\n",
    "u = general_function(x,t,0.05,f)\n",
    "\n",
    "#plotting\n",
    "plt.plot(x,u[0],label='t=0')\n",
    "plt.plot(x,u[4],label='t=0.4')\n",
    "plt.ylabel('x')\n",
    "plt.xlabel('u')\n",
    "plt.title('heat equation solution snapshots')\n",
    "plt.legend()\n",
    "plt.show()"
   ]
  },
  {
   "cell_type": "markdown",
   "metadata": {},
   "source": [
    "# Problem 2\n",
    "\n",
    "Solve the initial/boundary value problem\n",
    "\n",
    "\\begin{align}\n",
    "\t\\begin{split}\n",
    "\t&{ } u_t = u_{xx}, \\quad x \\in [-12,12],\\quad t \\in [0,1], \\\\\n",
    "\t&{ } u(-12,t) = 0,\\quad u(12,t) = 0,\\\\\n",
    "\t&{ } u(x,0) = \\max\\{1 - x^2,0\\}\n",
    "\t\\end{split}\n",
    "\\end{align}\n",
    "\n",
    "using the first order explicit method (1.1).\n",
    "Use 140 subintervals in the $x$ dimension and 70 subintervals in time.\n",
    "The initial and final states are shown in Figures 1 and 2.\n",
    "Animate your results.\n",
    "\n",
    "Explicit methods usually have a stability condition, called a CFL condition (for Courant-Friedrichs-Lewy).\n",
    "For method (1.1) the CFL condition that must be satisfied is that:\n",
    "\n",
    "$$\\lambda \\leq \\frac{1}{2}$$\n",
    "\n",
    "Repeat your computations using 140 subintervals in the $x$ dimension and 66 subintervals in time. Animate the results.\n",
    "For these values the CFL condition is broken; you should easily see the result of this instability in the approximation $U^{66}$.\n"
   ]
  },
  {
   "cell_type": "code",
   "execution_count": 6,
   "metadata": {},
   "outputs": [
    {
     "data": {
      "text/html": [
       "<video src=\"heat_equation1.mp4\" controls>"
      ],
      "text/plain": [
       "<IPython.core.display.HTML object>"
      ]
     },
     "execution_count": 6,
     "metadata": {},
     "output_type": "execute_result"
    },
    {
     "data": {
      "image/png": "[encoded data removed]",
      "text/plain": [
       "<Figure size 432x288 with 1 Axes>"
      ]
     },
     "metadata": {
      "needs_background": "light"
     },
     "output_type": "display_data"
    }
   ],
   "source": [
    "#plotting with stable cfl\n",
    "\n",
    "#linspaces, function\n",
    "x = np.linspace(-12,12,141)\n",
    "t = np.linspace(0,1,71)\n",
    "f = lambda x: np.where(1-(x**2)>0,1-(x**2),0)\n",
    "\n",
    "#solution\n",
    "u = general_function(x,t,1,f)\n",
    "\n",
    "#animating\n",
    "plt.ioff()\n",
    "animate(x,u,'heat_equation1')\n",
    "plt.ioff()\n",
    "HTML('<video src=\"heat_equation1.mp4\" controls>')"
   ]
  },
  {
   "cell_type": "markdown",
   "metadata": {},
   "source": [
    "`<video src=\"heat_equation1.mp4\" controls>`"
   ]
  },
  {
   "cell_type": "code",
   "execution_count": 7,
   "metadata": {},
   "outputs": [
    {
     "data": {
      "text/html": [
       "<video src=\"heat_equation2.mp4\" controls>"
      ],
      "text/plain": [
       "<IPython.core.display.HTML object>"
      ]
     },
     "execution_count": 7,
     "metadata": {},
     "output_type": "execute_result"
    },
    {
     "data": {
      "image/png": "[encoded data removed]",
      "text/plain": [
       "<Figure size 432x288 with 1 Axes>"
      ]
     },
     "metadata": {
      "needs_background": "light"
     },
     "output_type": "display_data"
    }
   ],
   "source": [
    "#plotting with unstable cfl\n",
    "\n",
    "#linspaces and function\n",
    "x = np.linspace(-12,12,141)\n",
    "t = np.linspace(0,1,67)\n",
    "f = lambda x: np.where(1-(x**2)>0,1-(x**2),0)\n",
    "\n",
    "#solution\n",
    "u = general_function(x,t,1,f)\n",
    "\n",
    "#animating\n",
    "plt.ioff()\n",
    "animate(x,u,'heat_equation2')\n",
    "plt.ioff()\n",
    "HTML('<video src=\"heat_equation2.mp4\" controls>')"
   ]
  },
  {
   "cell_type": "markdown",
   "metadata": {},
   "source": [
    "`<video src=\"heat_equation2.mp4\" controls>`"
   ]
  },
  {
   "cell_type": "markdown",
   "metadata": {},
   "source": [
    "# Problem 3\n",
    "\n",
    "Using the Crank Nicolson method, numerically approximate the solution $u(x,t)$ of the problem\n",
    "\\begin{align}\n",
    "\t\\begin{split}\n",
    "\t&{ } u_t = u_{xx}, \\quad x \\in [-12,12],\\quad t \\in [0,1],\\\\\n",
    "\t&{ } u(-12,t) = 0,\\quad u(12,t) = 0,\\\\\n",
    "\t&{ } u(x,0) = \\max\\{1 - x^2,0\\}.\n",
    "\t\\end{split}\n",
    "\\end{align}\n",
    "Note that this is an implicit linear scheme; hence, the most efficient way to find $U^{j+1}$ is to create the matrix $B$ as a sparse matrix and then use \\li{scipy.sparse.linalg.solve}.\n",
    "\n",
    "Demonstrate that the numerical approximation at $t = 1$ converges.\n",
    "Do this by computing $U$ at $t=1$ using $20,40,80,160,320$, and $640$ steps.\n",
    "Use the same number of steps in both time and space.\n",
    "Reproduce the loglog plot shown in the lab.\n",
    "The slope of the line there shows the order of convergence.\n",
    "\n",
    "To measure the error, use the solution with the smallest $h$ (largest number of intervals) as if it were the exact solution, then sample each solution only at the x-values that are represented in the solution with the largest $h$ (smallest number of intervals).\n",
    "Use the $\\infty$-norm on the arrays of values at those points to measure the error.\n",
    "\n",
    "Notice that, since the Crank-Nicolson method is unconditionally stable, there is no CFL condition, and we can safely use the same number of intervals in time and space."
   ]
  },
  {
   "cell_type": "code",
   "execution_count": 11,
   "metadata": {},
   "outputs": [],
   "source": [
    "def heat_cn(nu,f,xbounds,tbounds,xsteps,tsteps):\n",
    "    \"\"\"Computes the Crank-Nicholson solution to the heat equation initial/boundary\n",
    "    value problem:\n",
    "    \n",
    "        u_t = νu_xx, x∈[x0,x1] t∈[t0,t1]\n",
    "        u(x0,t) = 0, u(x1,t) = 0\n",
    "        u(x,0) = f(x)\n",
    "    \"\"\"\n",
    "    #linspaces within bounds\n",
    "    x = np.linspace(xbounds[0],xbounds[1],xsteps+1)\n",
    "    t = np.linspace(tbounds[0],tbounds[1],tsteps+1)\n",
    "    #_t is number of points to make correct number of subintervals, _x is same for x subintervals\n",
    "    _t = len(t)\n",
    "    _x = len(x)\n",
    "    \n",
    "    #lammy\n",
    "    λ = nu*(t[1]-t[0])/(2*(x[1]-x[0])**2)\n",
    "    \n",
    "    #creating A matrix\n",
    "    below = λ*np.concatenate([np.ones(_x-2),np.array([0])])\n",
    "    main  = np.concatenate([np.array([1]),(1-2*λ)*np.ones(_x-1),np.array([1])])\n",
    "    above = np.concatenate([np.array([0]),λ*np.ones(_x-2)])\n",
    "    k = [below,main,above]\n",
    "    offset = [-1,0,1]\n",
    "    A = sparse.csr_matrix(diags(k,offset))\n",
    "    \n",
    "    #creating B matrix\n",
    "    below = -λ*np.concatenate([np.ones(_x-2),np.array([0])])\n",
    "    main  = np.concatenate([np.array([1]),(1+2*λ)*np.ones(_x-1),np.array([1])])\n",
    "    above = np.concatenate([np.array([0]),-λ*np.ones(_x-2)])\n",
    "    k = [below,main,above]\n",
    "    B = sparse.csr_matrix(diags(k,offset))\n",
    "    \n",
    "    # BU1 = AU0\n",
    "    U = f(x)\n",
    "    U = np.vstack([U, spsolve(B,A@U)])\n",
    "    for i in range(_t-2):\n",
    "        U = np.vstack([U,spsolve(B,A@U[-1])])\n",
    "    \n",
    "    #returning the solution and the h value\n",
    "    return U,x[1]-x[0]"
   ]
  },
  {
   "cell_type": "code",
   "execution_count": 12,
   "metadata": {
    "scrolled": true
   },
   "outputs": [],
   "source": [
    "# defining number of steps\n",
    "stepnums = [20,40,80,160,320,640]\n",
    "# initializing lists to hold info\n",
    "us = []\n",
    "errs = []\n",
    "hs = []\n",
    "\n",
    "#for each number of steps, calculate the solution and error if applicable\n",
    "for i, stepnum in enumerate(reversed(stepnums)):\n",
    "    u,h = heat_cn(1,f,[-12,12],[0,1],stepnum,stepnum)\n",
    "    if i > 0:\n",
    "        \n",
    "        error = max(np.abs( us[0][-1][::640//stepnum] - u[-1]         ))\n",
    "        \n",
    "        errs.append(error)\n",
    "        \n",
    "        #also keep track of corresponding h value\n",
    "        hs.append(h)\n",
    "        \n",
    "    us.append(u)"
   ]
  },
  {
   "cell_type": "code",
   "execution_count": 13,
   "metadata": {},
   "outputs": [
    {
     "data": {
      "image/png": "[encoded data removed]",
      "text/plain": [
       "<Figure size 432x288 with 1 Axes>"
      ]
     },
     "metadata": {
      "needs_background": "light"
     },
     "output_type": "display_data"
    }
   ],
   "source": [
    "#plotting stuff\n",
    "plt.loglog(hs,errs,\"-o\",label='error')\n",
    "plt.loglog(hs,[h**2 for h in hs],\"-o\",label='h^2')\n",
    "plt.title('plot of errors')\n",
    "plt.legend()\n",
    "plt.show()"
   ]
  }
 ],
 "metadata": {
  "kernelspec": {
   "display_name": "Python 3",
   "language": "python",
   "name": "python3"
  },
  "language_info": {
   "codemirror_mode": {
    "name": "ipython",
    "version": 3
   },
   "file_extension": ".py",
   "mimetype": "text/x-python",
   "name": "python",
   "nbconvert_exporter": "python",
   "pygments_lexer": "ipython3",
   "version": "3.7.3"
  }
 },
 "nbformat": 4,
 "nbformat_minor": 4
}
